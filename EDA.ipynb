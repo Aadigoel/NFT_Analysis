{
 "cells": [
  {
   "cell_type": "markdown",
   "metadata": {},
   "source": [
    "# CRYPTO_PUNKS"
   ]
  },
  {
   "cell_type": "code",
   "execution_count": 1,
   "metadata": {},
   "outputs": [],
   "source": [
    "import pandas as pd\n",
    "import numpy as np"
   ]
  },
  {
   "cell_type": "code",
   "execution_count": 17,
   "metadata": {},
   "outputs": [
    {
     "name": "stderr",
     "output_type": "stream",
     "text": [
      "C:\\Users\\ankur\\AppData\\Local\\Temp\\ipykernel_7096\\3898191936.py:1: DtypeWarning: Columns (0,1,2,4,6,8,9,10,14,15,20) have mixed types. Specify dtype option on import or set low_memory=False.\n",
      "  df=pd.read_csv(\"Data_API.csv\")\n"
     ]
    },
    {
     "data": {
      "text/html": [
       "<div>\n",
       "<style scoped>\n",
       "    .dataframe tbody tr th:only-of-type {\n",
       "        vertical-align: middle;\n",
       "    }\n",
       "\n",
       "    .dataframe tbody tr th {\n",
       "        vertical-align: top;\n",
       "    }\n",
       "\n",
       "    .dataframe thead th {\n",
       "        text-align: right;\n",
       "    }\n",
       "</style>\n",
       "<table border=\"1\" class=\"dataframe\">\n",
       "  <thead>\n",
       "    <tr style=\"text-align: right;\">\n",
       "      <th></th>\n",
       "      <th>Price_Crypto</th>\n",
       "      <th>Price_USD</th>\n",
       "    </tr>\n",
       "  </thead>\n",
       "  <tbody>\n",
       "    <tr>\n",
       "      <th>count</th>\n",
       "      <td>6.071027e+06</td>\n",
       "      <td>6.062744e+06</td>\n",
       "    </tr>\n",
       "    <tr>\n",
       "      <th>mean</th>\n",
       "      <td>6.574200e+02</td>\n",
       "      <td>1.463413e+02</td>\n",
       "    </tr>\n",
       "    <tr>\n",
       "      <th>std</th>\n",
       "      <td>1.217706e+06</td>\n",
       "      <td>5.488389e+03</td>\n",
       "    </tr>\n",
       "    <tr>\n",
       "      <th>min</th>\n",
       "      <td>0.000000e+00</td>\n",
       "      <td>1.514250e-16</td>\n",
       "    </tr>\n",
       "    <tr>\n",
       "      <th>25%</th>\n",
       "      <td>2.400000e-02</td>\n",
       "      <td>2.277600e-01</td>\n",
       "    </tr>\n",
       "    <tr>\n",
       "      <th>50%</th>\n",
       "      <td>4.100000e-01</td>\n",
       "      <td>1.426470e+00</td>\n",
       "    </tr>\n",
       "    <tr>\n",
       "      <th>75%</th>\n",
       "      <td>5.000000e+00</td>\n",
       "      <td>1.385100e+01</td>\n",
       "    </tr>\n",
       "    <tr>\n",
       "      <th>max</th>\n",
       "      <td>3.000000e+09</td>\n",
       "      <td>7.501893e+06</td>\n",
       "    </tr>\n",
       "  </tbody>\n",
       "</table>\n",
       "</div>"
      ],
      "text/plain": [
       "       Price_Crypto     Price_USD\n",
       "count  6.071027e+06  6.062744e+06\n",
       "mean   6.574200e+02  1.463413e+02\n",
       "std    1.217706e+06  5.488389e+03\n",
       "min    0.000000e+00  1.514250e-16\n",
       "25%    2.400000e-02  2.277600e-01\n",
       "50%    4.100000e-01  1.426470e+00\n",
       "75%    5.000000e+00  1.385100e+01\n",
       "max    3.000000e+09  7.501893e+06"
      ]
     },
     "execution_count": 17,
     "metadata": {},
     "output_type": "execute_result"
    }
   ],
   "source": [
    "df=pd.read_csv(\"Data_API.csv\")\n",
    "df.describe()"
   ]
  },
  {
   "cell_type": "markdown",
   "metadata": {},
   "source": [
    "## Lets Clean the Dataset first"
   ]
  },
  {
   "cell_type": "markdown",
   "metadata": {},
   "source": [
    "Dropping  Image columns due to sparse presence"
   ]
  },
  {
   "cell_type": "code",
   "execution_count": 18,
   "metadata": {},
   "outputs": [],
   "source": [
    "df.drop(columns=['Image_url_1','Image_url_2','Image_url_3','Image_url_4'],inplace=True)"
   ]
  },
  {
   "cell_type": "code",
   "execution_count": 19,
   "metadata": {},
   "outputs": [
    {
     "name": "stdout",
     "output_type": "stream",
     "text": [
      "This is seller username absent: 4977773 off of 6071027\n",
      "This is buyer username absent: 5178164 off of 6071027\n"
     ]
    }
   ],
   "source": [
    "print(f\"This is seller username absent: {df['Seller_username'].isna().sum()} off of {df['Seller_address'].count()}\")\n",
    "print(f\"This is buyer username absent: {df['Buyer_username'].isna().sum()} off of {df['Buyer_address'].count()}\")"
   ]
  },
  {
   "cell_type": "markdown",
   "metadata": {},
   "source": [
    "As the number of missing values is so high for username of buyer and seller:\n",
    "    1. It signifies that major transactions are anonymouse\n",
    "    2. We can choose to drop these fields or keep it to analyse if the ones with names go anonymouse down the line."
   ]
  },
  {
   "cell_type": "code",
   "execution_count": 20,
   "metadata": {},
   "outputs": [
    {
     "name": "stdout",
     "output_type": "stream",
     "text": [
      "This is Description absent: 4340298 off of 6071027\n"
     ]
    }
   ],
   "source": [
    "print(f\"This is Description absent: {df['Description'].isna().sum()} off of {len(df['Description'])}\")"
   ]
  },
  {
   "cell_type": "markdown",
   "metadata": {},
   "source": [
    "Description can be dropped as we cannot compute any data wrt that."
   ]
  },
  {
   "cell_type": "code",
   "execution_count": 21,
   "metadata": {},
   "outputs": [],
   "source": [
    "df.drop(columns=['Description'],inplace=True)"
   ]
  },
  {
   "cell_type": "code",
   "execution_count": 22,
   "metadata": {},
   "outputs": [
    {
     "name": "stdout",
     "output_type": "stream",
     "text": [
      "This is Collection absent: 0 off of 6071027\n",
      "This is Market absent: 0 off of 6071027\n",
      "This is Category absent: 0 off of 6071027\n"
     ]
    }
   ],
   "source": [
    "print(f\"This is Collection absent: {df['Collection'].isna().sum()} off of {len(df['Collection'])}\")\n",
    "print(f\"This is Market absent: {df['Market'].isna().sum()} off of {len(df['Market'])}\")\n",
    "print(f\"This is Category absent: {df['Category'].isna().sum()} off of {len(df['Category'])}\")\n",
    "\n",
    "#df.keys()"
   ]
  },
  {
   "cell_type": "markdown",
   "metadata": {},
   "source": [
    "We are now Good to go"
   ]
  },
  {
   "cell_type": "markdown",
   "metadata": {},
   "source": [
    "## Partitioning"
   ]
  },
  {
   "cell_type": "markdown",
   "metadata": {},
   "source": [
    "As the dataset is large(6mil), we are gonna partition our dataset in two, with motive being partition pre-2020, and post-2020. As in 2020, majority of crypto and NFTs Peaked."
   ]
  },
  {
   "cell_type": "code",
   "execution_count": 23,
   "metadata": {},
   "outputs": [],
   "source": [
    "# sort dataframe by time\n",
    "df=df.sort_values(by=['Datetime_updated'])"
   ]
  },
  {
   "cell_type": "code",
   "execution_count": 24,
   "metadata": {},
   "outputs": [
    {
     "data": {
      "text/html": [
       "<div>\n",
       "<style scoped>\n",
       "    .dataframe tbody tr th:only-of-type {\n",
       "        vertical-align: middle;\n",
       "    }\n",
       "\n",
       "    .dataframe tbody tr th {\n",
       "        vertical-align: top;\n",
       "    }\n",
       "\n",
       "    .dataframe thead th {\n",
       "        text-align: right;\n",
       "    }\n",
       "</style>\n",
       "<table border=\"1\" class=\"dataframe\">\n",
       "  <thead>\n",
       "    <tr style=\"text-align: right;\">\n",
       "      <th></th>\n",
       "      <th>Smart_contract</th>\n",
       "      <th>ID_token</th>\n",
       "      <th>Transaction_hash</th>\n",
       "      <th>Seller_address</th>\n",
       "      <th>Seller_username</th>\n",
       "      <th>Buyer_address</th>\n",
       "      <th>Buyer_username</th>\n",
       "      <th>Price_Crypto</th>\n",
       "      <th>Crypto</th>\n",
       "      <th>Price_USD</th>\n",
       "      <th>Name</th>\n",
       "      <th>Collection</th>\n",
       "      <th>Market</th>\n",
       "      <th>Datetime_updated</th>\n",
       "      <th>Datetime_updated_seconds</th>\n",
       "      <th>Permanent_link</th>\n",
       "      <th>Unique_id_collection</th>\n",
       "      <th>Collection_cleaned</th>\n",
       "      <th>Category</th>\n",
       "    </tr>\n",
       "  </thead>\n",
       "  <tbody>\n",
       "    <tr>\n",
       "      <th>242722</th>\n",
       "      <td>NaN</td>\n",
       "      <td>1001.0</td>\n",
       "      <td>0x5c8a04e3174fed51f8cbe8f8ec77b6d5714343c3ebc6...</td>\n",
       "      <td>0xba52c75764d6f594735dc735be7f1830cdf58ddf</td>\n",
       "      <td>NaN</td>\n",
       "      <td>0x672ec49f7f7eac25c3a2e651f67f579bb5da8936</td>\n",
       "      <td>NaN</td>\n",
       "      <td>0.009922</td>\n",
       "      <td>ETH</td>\n",
       "      <td>3.970675</td>\n",
       "      <td>NaN</td>\n",
       "      <td>Cryptokitties</td>\n",
       "      <td>Cryptokitties</td>\n",
       "      <td>2017-11-23 00:00:00</td>\n",
       "      <td>2017-11-23 18:44:21</td>\n",
       "      <td>NaN</td>\n",
       "      <td>('Cryptokitties', '1001')</td>\n",
       "      <td>Cryptokittie</td>\n",
       "      <td>Art</td>\n",
       "    </tr>\n",
       "    <tr>\n",
       "      <th>242389</th>\n",
       "      <td>NaN</td>\n",
       "      <td>1315.0</td>\n",
       "      <td>0xc2c65a88f6335c505d40dae2db5b1b4bf35f7ba9f55b...</td>\n",
       "      <td>0xba52c75764d6f594735dc735be7f1830cdf58ddf</td>\n",
       "      <td>NaN</td>\n",
       "      <td>0xeaa9c0b9b295e9580721532d28cc2a68d7365be9</td>\n",
       "      <td>NaN</td>\n",
       "      <td>0.008108</td>\n",
       "      <td>ETH</td>\n",
       "      <td>3.244793</td>\n",
       "      <td>NaN</td>\n",
       "      <td>Cryptokitties</td>\n",
       "      <td>Cryptokitties</td>\n",
       "      <td>2017-11-23 00:00:00</td>\n",
       "      <td>2017-11-23 22:53:31</td>\n",
       "      <td>NaN</td>\n",
       "      <td>('Cryptokitties', '1315')</td>\n",
       "      <td>Cryptokittie</td>\n",
       "      <td>Art</td>\n",
       "    </tr>\n",
       "    <tr>\n",
       "      <th>242390</th>\n",
       "      <td>NaN</td>\n",
       "      <td>1314.0</td>\n",
       "      <td>0xef5c442cf5626ae4286e0b2ce8996538456411190710...</td>\n",
       "      <td>0xba52c75764d6f594735dc735be7f1830cdf58ddf</td>\n",
       "      <td>NaN</td>\n",
       "      <td>0xdc2cf5cbfa31958ed32c3ace696ee6bf1a6a19f4</td>\n",
       "      <td>NaN</td>\n",
       "      <td>0.008478</td>\n",
       "      <td>ETH</td>\n",
       "      <td>3.392637</td>\n",
       "      <td>NaN</td>\n",
       "      <td>Cryptokitties</td>\n",
       "      <td>Cryptokitties</td>\n",
       "      <td>2017-11-23 00:00:00</td>\n",
       "      <td>2017-11-23 22:53:31</td>\n",
       "      <td>NaN</td>\n",
       "      <td>('Cryptokitties', '1314')</td>\n",
       "      <td>Cryptokittie</td>\n",
       "      <td>Art</td>\n",
       "    </tr>\n",
       "    <tr>\n",
       "      <th>242391</th>\n",
       "      <td>NaN</td>\n",
       "      <td>1313.0</td>\n",
       "      <td>0x84741f2ae563e8b713d7b3bd2dcf8a570ae4070948d7...</td>\n",
       "      <td>0xba52c75764d6f594735dc735be7f1830cdf58ddf</td>\n",
       "      <td>NaN</td>\n",
       "      <td>0x01b24d8631caf2ed9385e440534fcbddc9cf962e</td>\n",
       "      <td>NaN</td>\n",
       "      <td>0.009825</td>\n",
       "      <td>ETH</td>\n",
       "      <td>3.931768</td>\n",
       "      <td>NaN</td>\n",
       "      <td>Cryptokitties</td>\n",
       "      <td>Cryptokitties</td>\n",
       "      <td>2017-11-23 00:00:00</td>\n",
       "      <td>2017-11-23 22:53:31</td>\n",
       "      <td>NaN</td>\n",
       "      <td>('Cryptokitties', '1313')</td>\n",
       "      <td>Cryptokittie</td>\n",
       "      <td>Art</td>\n",
       "    </tr>\n",
       "    <tr>\n",
       "      <th>242392</th>\n",
       "      <td>NaN</td>\n",
       "      <td>1312.0</td>\n",
       "      <td>0x5ba4110fd00739f9054b4738aa75703c551cdcdce905...</td>\n",
       "      <td>0xba52c75764d6f594735dc735be7f1830cdf58ddf</td>\n",
       "      <td>NaN</td>\n",
       "      <td>0xfb8b5922f50b1522446ddc9f5a4a89113c77978d</td>\n",
       "      <td>NaN</td>\n",
       "      <td>0.008573</td>\n",
       "      <td>ETH</td>\n",
       "      <td>3.430710</td>\n",
       "      <td>NaN</td>\n",
       "      <td>Cryptokitties</td>\n",
       "      <td>Cryptokitties</td>\n",
       "      <td>2017-11-23 00:00:00</td>\n",
       "      <td>2017-11-23 22:53:31</td>\n",
       "      <td>NaN</td>\n",
       "      <td>('Cryptokitties', '1312')</td>\n",
       "      <td>Cryptokittie</td>\n",
       "      <td>Art</td>\n",
       "    </tr>\n",
       "    <tr>\n",
       "      <th>...</th>\n",
       "      <td>...</td>\n",
       "      <td>...</td>\n",
       "      <td>...</td>\n",
       "      <td>...</td>\n",
       "      <td>...</td>\n",
       "      <td>...</td>\n",
       "      <td>...</td>\n",
       "      <td>...</td>\n",
       "      <td>...</td>\n",
       "      <td>...</td>\n",
       "      <td>...</td>\n",
       "      <td>...</td>\n",
       "      <td>...</td>\n",
       "      <td>...</td>\n",
       "      <td>...</td>\n",
       "      <td>...</td>\n",
       "      <td>...</td>\n",
       "      <td>...</td>\n",
       "      <td>...</td>\n",
       "    </tr>\n",
       "    <tr>\n",
       "      <th>2397422</th>\n",
       "      <td>atomicassets</td>\n",
       "      <td>1099529741344</td>\n",
       "      <td>NaN</td>\n",
       "      <td>4rzsa.wam</td>\n",
       "      <td>NaN</td>\n",
       "      <td>yyxba.wam</td>\n",
       "      <td>NaN</td>\n",
       "      <td>0.390000</td>\n",
       "      <td>WAX</td>\n",
       "      <td>0.073983</td>\n",
       "      <td>NaN</td>\n",
       "      <td>alien.worlds</td>\n",
       "      <td>Atomic</td>\n",
       "      <td>2021-04-27 00:00:00</td>\n",
       "      <td>2021-04-27 16:18:10</td>\n",
       "      <td>NaN</td>\n",
       "      <td>('alien.worlds', '1099529741344')</td>\n",
       "      <td>Alien</td>\n",
       "      <td>Games</td>\n",
       "    </tr>\n",
       "    <tr>\n",
       "      <th>2397421</th>\n",
       "      <td>atomicassets</td>\n",
       "      <td>1099529741612</td>\n",
       "      <td>NaN</td>\n",
       "      <td>mtbrw.wam</td>\n",
       "      <td>NaN</td>\n",
       "      <td>ac5ro.wam</td>\n",
       "      <td>NaN</td>\n",
       "      <td>0.560000</td>\n",
       "      <td>WAX</td>\n",
       "      <td>0.127008</td>\n",
       "      <td>NaN</td>\n",
       "      <td>alien.worlds</td>\n",
       "      <td>Atomic</td>\n",
       "      <td>2021-04-27 00:00:00</td>\n",
       "      <td>2021-04-27 16:18:11</td>\n",
       "      <td>NaN</td>\n",
       "      <td>('alien.worlds', '1099529741612')</td>\n",
       "      <td>Alien</td>\n",
       "      <td>Games</td>\n",
       "    </tr>\n",
       "    <tr>\n",
       "      <th>2397420</th>\n",
       "      <td>atomicassets</td>\n",
       "      <td>1099528300098</td>\n",
       "      <td>NaN</td>\n",
       "      <td>wmibi.wam</td>\n",
       "      <td>NaN</td>\n",
       "      <td>pyqra.wam</td>\n",
       "      <td>NaN</td>\n",
       "      <td>23.500000</td>\n",
       "      <td>WAX</td>\n",
       "      <td>4.457950</td>\n",
       "      <td>NaN</td>\n",
       "      <td>alien.worlds</td>\n",
       "      <td>Atomic</td>\n",
       "      <td>2021-04-27 00:00:00</td>\n",
       "      <td>2021-04-27 16:18:11</td>\n",
       "      <td>NaN</td>\n",
       "      <td>('alien.worlds', '1099528300098')</td>\n",
       "      <td>Alien</td>\n",
       "      <td>Games</td>\n",
       "    </tr>\n",
       "    <tr>\n",
       "      <th>2397434</th>\n",
       "      <td>atomicassets</td>\n",
       "      <td>1099529741517</td>\n",
       "      <td>NaN</td>\n",
       "      <td>knzsa.wam</td>\n",
       "      <td>NaN</td>\n",
       "      <td>h3kba.wam</td>\n",
       "      <td>NaN</td>\n",
       "      <td>0.400000</td>\n",
       "      <td>WAX</td>\n",
       "      <td>0.075880</td>\n",
       "      <td>NaN</td>\n",
       "      <td>alien.worlds</td>\n",
       "      <td>Atomic</td>\n",
       "      <td>2021-04-27 00:00:00</td>\n",
       "      <td>2021-04-27 16:18:09</td>\n",
       "      <td>NaN</td>\n",
       "      <td>('alien.worlds', '1099529741517')</td>\n",
       "      <td>Alien</td>\n",
       "      <td>Games</td>\n",
       "    </tr>\n",
       "    <tr>\n",
       "      <th>2418757</th>\n",
       "      <td>atomicassets</td>\n",
       "      <td>1099529672292</td>\n",
       "      <td>NaN</td>\n",
       "      <td>3qxca.wam</td>\n",
       "      <td>NaN</td>\n",
       "      <td>1moba.wam</td>\n",
       "      <td>NaN</td>\n",
       "      <td>0.390000</td>\n",
       "      <td>WAX</td>\n",
       "      <td>0.073983</td>\n",
       "      <td>NaN</td>\n",
       "      <td>alien.worlds</td>\n",
       "      <td>Atomic</td>\n",
       "      <td>2021-04-27 00:00:00</td>\n",
       "      <td>2021-04-27 12:59:51</td>\n",
       "      <td>NaN</td>\n",
       "      <td>('alien.worlds', '1099529672292')</td>\n",
       "      <td>Alien</td>\n",
       "      <td>Games</td>\n",
       "    </tr>\n",
       "  </tbody>\n",
       "</table>\n",
       "<p>6071027 rows × 19 columns</p>\n",
       "</div>"
      ],
      "text/plain": [
       "        Smart_contract       ID_token  \\\n",
       "242722             NaN         1001.0   \n",
       "242389             NaN         1315.0   \n",
       "242390             NaN         1314.0   \n",
       "242391             NaN         1313.0   \n",
       "242392             NaN         1312.0   \n",
       "...                ...            ...   \n",
       "2397422   atomicassets  1099529741344   \n",
       "2397421   atomicassets  1099529741612   \n",
       "2397420   atomicassets  1099528300098   \n",
       "2397434   atomicassets  1099529741517   \n",
       "2418757   atomicassets  1099529672292   \n",
       "\n",
       "                                          Transaction_hash  \\\n",
       "242722   0x5c8a04e3174fed51f8cbe8f8ec77b6d5714343c3ebc6...   \n",
       "242389   0xc2c65a88f6335c505d40dae2db5b1b4bf35f7ba9f55b...   \n",
       "242390   0xef5c442cf5626ae4286e0b2ce8996538456411190710...   \n",
       "242391   0x84741f2ae563e8b713d7b3bd2dcf8a570ae4070948d7...   \n",
       "242392   0x5ba4110fd00739f9054b4738aa75703c551cdcdce905...   \n",
       "...                                                    ...   \n",
       "2397422                                                NaN   \n",
       "2397421                                                NaN   \n",
       "2397420                                                NaN   \n",
       "2397434                                                NaN   \n",
       "2418757                                                NaN   \n",
       "\n",
       "                                     Seller_address Seller_username  \\\n",
       "242722   0xba52c75764d6f594735dc735be7f1830cdf58ddf             NaN   \n",
       "242389   0xba52c75764d6f594735dc735be7f1830cdf58ddf             NaN   \n",
       "242390   0xba52c75764d6f594735dc735be7f1830cdf58ddf             NaN   \n",
       "242391   0xba52c75764d6f594735dc735be7f1830cdf58ddf             NaN   \n",
       "242392   0xba52c75764d6f594735dc735be7f1830cdf58ddf             NaN   \n",
       "...                                             ...             ...   \n",
       "2397422                                   4rzsa.wam             NaN   \n",
       "2397421                                   mtbrw.wam             NaN   \n",
       "2397420                                   wmibi.wam             NaN   \n",
       "2397434                                   knzsa.wam             NaN   \n",
       "2418757                                   3qxca.wam             NaN   \n",
       "\n",
       "                                      Buyer_address Buyer_username  \\\n",
       "242722   0x672ec49f7f7eac25c3a2e651f67f579bb5da8936            NaN   \n",
       "242389   0xeaa9c0b9b295e9580721532d28cc2a68d7365be9            NaN   \n",
       "242390   0xdc2cf5cbfa31958ed32c3ace696ee6bf1a6a19f4            NaN   \n",
       "242391   0x01b24d8631caf2ed9385e440534fcbddc9cf962e            NaN   \n",
       "242392   0xfb8b5922f50b1522446ddc9f5a4a89113c77978d            NaN   \n",
       "...                                             ...            ...   \n",
       "2397422                                   yyxba.wam            NaN   \n",
       "2397421                                   ac5ro.wam            NaN   \n",
       "2397420                                   pyqra.wam            NaN   \n",
       "2397434                                   h3kba.wam            NaN   \n",
       "2418757                                   1moba.wam            NaN   \n",
       "\n",
       "         Price_Crypto Crypto  Price_USD Name     Collection         Market  \\\n",
       "242722       0.009922    ETH   3.970675  NaN  Cryptokitties  Cryptokitties   \n",
       "242389       0.008108    ETH   3.244793  NaN  Cryptokitties  Cryptokitties   \n",
       "242390       0.008478    ETH   3.392637  NaN  Cryptokitties  Cryptokitties   \n",
       "242391       0.009825    ETH   3.931768  NaN  Cryptokitties  Cryptokitties   \n",
       "242392       0.008573    ETH   3.430710  NaN  Cryptokitties  Cryptokitties   \n",
       "...               ...    ...        ...  ...            ...            ...   \n",
       "2397422      0.390000    WAX   0.073983  NaN   alien.worlds         Atomic   \n",
       "2397421      0.560000    WAX   0.127008  NaN   alien.worlds         Atomic   \n",
       "2397420     23.500000    WAX   4.457950  NaN   alien.worlds         Atomic   \n",
       "2397434      0.400000    WAX   0.075880  NaN   alien.worlds         Atomic   \n",
       "2418757      0.390000    WAX   0.073983  NaN   alien.worlds         Atomic   \n",
       "\n",
       "            Datetime_updated Datetime_updated_seconds Permanent_link  \\\n",
       "242722   2017-11-23 00:00:00      2017-11-23 18:44:21            NaN   \n",
       "242389   2017-11-23 00:00:00      2017-11-23 22:53:31            NaN   \n",
       "242390   2017-11-23 00:00:00      2017-11-23 22:53:31            NaN   \n",
       "242391   2017-11-23 00:00:00      2017-11-23 22:53:31            NaN   \n",
       "242392   2017-11-23 00:00:00      2017-11-23 22:53:31            NaN   \n",
       "...                      ...                      ...            ...   \n",
       "2397422  2021-04-27 00:00:00      2021-04-27 16:18:10            NaN   \n",
       "2397421  2021-04-27 00:00:00      2021-04-27 16:18:11            NaN   \n",
       "2397420  2021-04-27 00:00:00      2021-04-27 16:18:11            NaN   \n",
       "2397434  2021-04-27 00:00:00      2021-04-27 16:18:09            NaN   \n",
       "2418757  2021-04-27 00:00:00      2021-04-27 12:59:51            NaN   \n",
       "\n",
       "                      Unique_id_collection Collection_cleaned Category  \n",
       "242722           ('Cryptokitties', '1001')       Cryptokittie      Art  \n",
       "242389           ('Cryptokitties', '1315')       Cryptokittie      Art  \n",
       "242390           ('Cryptokitties', '1314')       Cryptokittie      Art  \n",
       "242391           ('Cryptokitties', '1313')       Cryptokittie      Art  \n",
       "242392           ('Cryptokitties', '1312')       Cryptokittie      Art  \n",
       "...                                    ...                ...      ...  \n",
       "2397422  ('alien.worlds', '1099529741344')              Alien    Games  \n",
       "2397421  ('alien.worlds', '1099529741612')              Alien    Games  \n",
       "2397420  ('alien.worlds', '1099528300098')              Alien    Games  \n",
       "2397434  ('alien.worlds', '1099529741517')              Alien    Games  \n",
       "2418757  ('alien.worlds', '1099529672292')              Alien    Games  \n",
       "\n",
       "[6071027 rows x 19 columns]"
      ]
     },
     "execution_count": 24,
     "metadata": {},
     "output_type": "execute_result"
    }
   ],
   "source": [
    "df"
   ]
  },
  {
   "cell_type": "code",
   "execution_count": 25,
   "metadata": {},
   "outputs": [],
   "source": [
    "split_val=2000000\n",
    "time_df_1=df[:split_val]\n",
    "time_df_2=df[split_val:]"
   ]
  },
  {
   "cell_type": "code",
   "execution_count": 26,
   "metadata": {},
   "outputs": [
    {
     "data": {
      "text/plain": [
       "2000000"
      ]
     },
     "execution_count": 26,
     "metadata": {},
     "output_type": "execute_result"
    }
   ],
   "source": [
    "time_df_1['Seller_address'].count()"
   ]
  },
  {
   "cell_type": "code",
   "execution_count": 27,
   "metadata": {},
   "outputs": [
    {
     "data": {
      "text/plain": [
       "4071027"
      ]
     },
     "execution_count": 27,
     "metadata": {},
     "output_type": "execute_result"
    }
   ],
   "source": [
    "time_df_2['Seller_address'].count()"
   ]
  },
  {
   "cell_type": "code",
   "execution_count": 28,
   "metadata": {},
   "outputs": [
    {
     "data": {
      "text/plain": [
       "'2017-11-23 00:00:00 to 2020-07-25 00:00:00'"
      ]
     },
     "execution_count": 28,
     "metadata": {},
     "output_type": "execute_result"
    }
   ],
   "source": [
    "date_range = str(time_df_1['Datetime_updated'].min()) + ' to ' +str(time_df_1['Datetime_updated'].max())\n",
    "date_range"
   ]
  },
  {
   "cell_type": "code",
   "execution_count": 29,
   "metadata": {},
   "outputs": [
    {
     "data": {
      "text/plain": [
       "'2020-07-25 00:00:00 to 2021-04-27 00:00:00'"
      ]
     },
     "execution_count": 29,
     "metadata": {},
     "output_type": "execute_result"
    }
   ],
   "source": [
    "date_range = str(time_df_2['Datetime_updated'].min()) + ' to ' +str(time_df_2['Datetime_updated'].max())\n",
    "date_range"
   ]
  },
  {
   "cell_type": "markdown",
   "metadata": {},
   "source": [
    "We would be dealing with these 2 frames, split by pre2020 and post 2020.\n",
    "According to our analysis, these 2 frames yield different behaviours."
   ]
  },
  {
   "cell_type": "markdown",
   "metadata": {},
   "source": [
    "## Analysis"
   ]
  },
  {
   "cell_type": "markdown",
   "metadata": {},
   "source": [
    "### Market share"
   ]
  },
  {
   "cell_type": "code",
   "execution_count": 82,
   "metadata": {},
   "outputs": [
    {
     "name": "stdout",
     "output_type": "stream",
     "text": [
      "OpenSea          1037135\n",
      "Cryptokitties     715596\n",
      "Godsunchained     230278\n",
      "Decentraland       13746\n",
      "Atomic              3245\n",
      "Name: Market, dtype: int64\n"
     ]
    }
   ],
   "source": [
    "def compute_marketshare(df_p):\n",
    "    return df_p['Market'].value_counts()\n",
    "print(compute_marketshare(time_df_1))\n"
   ]
  },
  {
   "cell_type": "code",
   "execution_count": 83,
   "metadata": {},
   "outputs": [
    {
     "name": "stdout",
     "output_type": "stream",
     "text": [
      "Atomic           3182047\n",
      "OpenSea           870127\n",
      "Cryptokitties       9804\n",
      "Godsunchained       5932\n",
      "Decentraland        3117\n",
      "Name: Market, dtype: int64\n"
     ]
    }
   ],
   "source": [
    "print(compute_marketshare(time_df_2))\n"
   ]
  },
  {
   "cell_type": "code",
   "execution_count": 84,
   "metadata": {},
   "outputs": [],
   "source": [
    "from cProfile import label\n",
    "import matplotlib.pyplot as plt\n",
    "def plot_py(df_p):\n",
    "    market_data=compute_marketshare(df_p)\n",
    "    plt.pie(market_data,labels=market_data.axes[0])\n",
    "    plt.show()"
   ]
  },
  {
   "cell_type": "code",
   "execution_count": 85,
   "metadata": {},
   "outputs": [
    {
     "data": {
      "image/png": "[encoded data removed]",
      "text/plain": [
       "<Figure size 640x480 with 1 Axes>"
      ]
     },
     "metadata": {},
     "output_type": "display_data"
    }
   ],
   "source": [
    "plot_py(time_df_1)"
   ]
  },
  {
   "cell_type": "code",
   "execution_count": 86,
   "metadata": {},
   "outputs": [
    {
     "data": {
      "image/png": "[encoded data removed]",
      "text/plain": [
       "<Figure size 640x480 with 1 Axes>"
      ]
     },
     "metadata": {},
     "output_type": "display_data"
    }
   ],
   "source": [
    "plot_py(time_df_2)"
   ]
  },
  {
   "cell_type": "markdown",
   "metadata": {},
   "source": [
    "We can see that in time section before 2020, Opensea has totally dominated and further, Atomic has dominated. \n",
    "Next our analysis should be dependent upon this hypothesis."
   ]
  },
  {
   "cell_type": "markdown",
   "metadata": {},
   "source": [
    "### Category"
   ]
  },
  {
   "cell_type": "code",
   "execution_count": 34,
   "metadata": {},
   "outputs": [],
   "source": [
    "def compute_category(df_p):\n",
    "    return df_p['Category'].value_counts()"
   ]
  },
  {
   "cell_type": "code",
   "execution_count": 35,
   "metadata": {},
   "outputs": [
    {
     "data": {
      "text/plain": [
       "Art            1056570\n",
       "Games           808598\n",
       "Collectible      64613\n",
       "Metaverse        34876\n",
       "Other            31781\n",
       "Utility           3562\n",
       "Name: Category, dtype: int64"
      ]
     },
     "execution_count": 35,
     "metadata": {},
     "output_type": "execute_result"
    }
   ],
   "source": [
    "compute_category(time_df_1)"
   ]
  },
  {
   "cell_type": "code",
   "execution_count": 36,
   "metadata": {},
   "outputs": [
    {
     "data": {
      "text/plain": [
       "Games          1834416\n",
       "Collectible    1541044\n",
       "Art             415945\n",
       "Other           240991\n",
       "Metaverse        33496\n",
       "Utility           5135\n",
       "Name: Category, dtype: int64"
      ]
     },
     "execution_count": 36,
     "metadata": {},
     "output_type": "execute_result"
    }
   ],
   "source": [
    "compute_category(time_df_2)"
   ]
  },
  {
   "cell_type": "code",
   "execution_count": 37,
   "metadata": {},
   "outputs": [],
   "source": [
    "from cProfile import label\n",
    "import matplotlib.pyplot as plt\n",
    "def plot_py_category(df_p):\n",
    "    market_data=compute_category(df_p)\n",
    "    plt.pie(market_data,labels=market_data.axes[0])\n",
    "    plt.show()"
   ]
  },
  {
   "cell_type": "code",
   "execution_count": 38,
   "metadata": {},
   "outputs": [
    {
     "data": {
      "image/png": "[encoded data removed]",
      "text/plain": [
       "<Figure size 640x480 with 1 Axes>"
      ]
     },
     "metadata": {},
     "output_type": "display_data"
    }
   ],
   "source": [
    "plot_py_category(time_df_1)"
   ]
  },
  {
   "cell_type": "code",
   "execution_count": 39,
   "metadata": {},
   "outputs": [
    {
     "data": {
      "image/png": "[encoded data removed]",
      "text/plain": [
       "<Figure size 640x480 with 1 Axes>"
      ]
     },
     "metadata": {},
     "output_type": "display_data"
    }
   ],
   "source": [
    "plot_py_category(time_df_2)"
   ]
  },
  {
   "cell_type": "markdown",
   "metadata": {},
   "source": [
    "The share in transactions, in ART has gone down. Collectibles has increased drastically. Lets find out the same for the whole dataset."
   ]
  },
  {
   "cell_type": "code",
   "execution_count": 51,
   "metadata": {},
   "outputs": [
    {
     "data": {
      "image/png": "[encoded data removed]",
      "text/plain": [
       "<Figure size 640x480 with 1 Axes>"
      ]
     },
     "metadata": {},
     "output_type": "display_data"
    }
   ],
   "source": [
    "category_data=df['Category'].value_counts()\n",
    "plt.pie(category_data,labels=category_data.axes[0])\n",
    "plt.show()"
   ]
  },
  {
   "cell_type": "markdown",
   "metadata": {},
   "source": [
    "In retrospective, Art gained tremendous popularity pre-2020 and saturated. Games has always been high, and might be the some of the safest investment options. Collectibles has gained huge popularity post-2020."
   ]
  },
  {
   "cell_type": "markdown",
   "metadata": {},
   "source": [
    "### Avg price of Transaction"
   ]
  },
  {
   "cell_type": "code",
   "execution_count": 67,
   "metadata": {},
   "outputs": [],
   "source": [
    "# Helper function\n",
    "def describe_arr(p_arr):\n",
    "    arr=np.array(p_arr)\n",
    "    arr=arr[~np.isnan(arr)]\n",
    "    mean = np.mean(arr)\n",
    "    median = np.median(arr)\n",
    " \n",
    "    # measures of dispersion\n",
    "    min = np.amin(arr)\n",
    "    max = np.amax(arr)\n",
    "    range = np.ptp(arr)\n",
    "    variance = np.var(arr)\n",
    "    sd = np.std(arr)\n",
    " \n",
    "    print(\"Descriptive analysis\")\n",
    "    print(\"Measures of Central Tendency\")\n",
    "    print(\"Mean =\", mean)\n",
    "    print(\"Median =\", median)\n",
    "    print(\"Measures of Dispersion\")\n",
    "    print(\"Minimum =\", min)\n",
    "    print(\"Maximum =\", max)\n",
    "    print(\"Range =\", range)\n",
    "    print(\"Variance =\", variance)\n",
    "    print(\"Standard Deviation =\", sd)"
   ]
  },
  {
   "cell_type": "code",
   "execution_count": 68,
   "metadata": {},
   "outputs": [
    {
     "data": {
      "image/png": "[encoded data removed]",
      "text/plain": [
       "<Figure size 640x480 with 1 Axes>"
      ]
     },
     "metadata": {},
     "output_type": "display_data"
    },
    {
     "name": "stdout",
     "output_type": "stream",
     "text": [
      "Descriptive analysis\n",
      "Measures of Central Tendency\n",
      "Mean = 34.21862467428138\n",
      "Median = 2.4164213619791672\n",
      "Measures of Dispersion\n",
      "Minimum = 1.5142500000000002e-16\n",
      "Maximum = 214275.60000000003\n",
      "Range = 214275.60000000003\n",
      "Variance = 321036.3308867082\n",
      "Standard Deviation = 566.6006802737782\n"
     ]
    }
   ],
   "source": [
    "plt.plot(time_df_1['Price_USD'])\n",
    "plt.show()\n",
    "describe_arr(time_df_1['Price_USD'])"
   ]
  },
  {
   "cell_type": "markdown",
   "metadata": {},
   "source": [
    "The highest value NFT transaction was $214K, pre-2020 and the mean value of a transaction was $34."
   ]
  },
  {
   "cell_type": "code",
   "execution_count": 73,
   "metadata": {},
   "outputs": [
    {
     "data": {
      "image/png": "[encoded data removed]",
      "text/plain": [
       "<Figure size 640x480 with 1 Axes>"
      ]
     },
     "metadata": {},
     "output_type": "display_data"
    },
    {
     "name": "stdout",
     "output_type": "stream",
     "text": [
      "Descriptive analysis\n",
      "Measures of Central Tendency\n",
      "Mean = 201.41255929785586\n",
      "Median = 1.04300475\n",
      "Measures of Dispersion\n",
      "Minimum = 1.314828535827e-15\n",
      "Maximum = 7501893.0\n",
      "Range = 7501893.0\n",
      "Variance = 44750732.613737665\n",
      "Standard Deviation = 6689.598838027409\n"
     ]
    }
   ],
   "source": [
    "plt.plot(time_df_2['Price_USD'])\n",
    "plt.show()\n",
    "describe_arr(time_df_2['Price_USD'])"
   ]
  },
  {
   "cell_type": "markdown",
   "metadata": {},
   "source": [
    "The highest value NFT transaction was $7.5Mil, post-2020 and the mean value of a transaction was $201. Thats almost 600% rise"
   ]
  },
  {
   "cell_type": "markdown",
   "metadata": {},
   "source": [
    "The second dataframe's price is so high, that the from 2017-20, it almost looks nothing with a peak price of just $200K. Lets try and findout, which Category has highest volume"
   ]
  },
  {
   "cell_type": "code",
   "execution_count": 42,
   "metadata": {},
   "outputs": [],
   "source": [
    "price_data={\"Games\":[0,[]],\"Collectible\":[0,[]],\"Art\":[0,[]],\"Metaverse\":[0,[]],\"Utility\":[0,[]],\"Other\":[0,[]]}\n"
   ]
  },
  {
   "cell_type": "code",
   "execution_count": 44,
   "metadata": {},
   "outputs": [],
   "source": [
    "# plot price_usd for each category individually.\n",
    "count=0\n",
    "for index,row in time_df_1.iterrows():\n",
    "    price_data[row['Category']][0]+=1\n",
    "    price_data[row['Category']][1].append(row['Price_USD'])\n",
    "    "
   ]
  },
  {
   "cell_type": "code",
   "execution_count": 57,
   "metadata": {},
   "outputs": [
    {
     "data": {
      "text/plain": [
       "300"
      ]
     },
     "execution_count": 57,
     "metadata": {},
     "output_type": "execute_result"
    }
   ],
   "source": [
    "import math\n",
    "count=0\n",
    "\n",
    "for i in price_data['Collectible'][1]:\n",
    "    if(math.isnan(i)):\n",
    "        count+=1\n",
    "count"
   ]
  },
  {
   "cell_type": "code",
   "execution_count": 59,
   "metadata": {},
   "outputs": [
    {
     "name": "stdout",
     "output_type": "stream",
     "text": [
      "64613\n"
     ]
    }
   ],
   "source": [
    "print(len(price_data['Collectible'][1]))"
   ]
  },
  {
   "cell_type": "code",
   "execution_count": 71,
   "metadata": {},
   "outputs": [
    {
     "data": {
      "image/png": "[encoded data removed]",
      "text/plain": [
       "<Figure size 640x480 with 1 Axes>"
      ]
     },
     "metadata": {},
     "output_type": "display_data"
    },
    {
     "name": "stdout",
     "output_type": "stream",
     "text": [
      "Descriptive analysis\n",
      "Measures of Central Tendency\n",
      "Mean = 33.1492564974572\n",
      "Median = 8.089455000000001\n",
      "Measures of Dispersion\n",
      "Minimum = 9.558400000000002e-16\n",
      "Maximum = 14917.91797743056\n",
      "Range = 14917.91797743056\n",
      "Variance = 35221.404837339556\n",
      "Standard Deviation = 187.673665806739\n"
     ]
    }
   ],
   "source": [
    "price_data['Collectible'][1]\n",
    "plt.plot(price_data['Collectible'][1])\n",
    "plt.show()\n",
    "describe_arr(price_data['Collectible'][1])"
   ]
  },
  {
   "cell_type": "code",
   "execution_count": 70,
   "metadata": {},
   "outputs": [
    {
     "data": {
      "image/png": "[encoded data removed]",
      "text/plain": [
       "<Figure size 640x480 with 1 Axes>"
      ]
     },
     "metadata": {},
     "output_type": "display_data"
    },
    {
     "name": "stdout",
     "output_type": "stream",
     "text": [
      "Descriptive analysis\n",
      "Measures of Central Tendency\n",
      "Mean = 33.647037677361006\n",
      "Median = 3.697925\n",
      "Measures of Dispersion\n",
      "Minimum = 2.2646000000000004e-16\n",
      "Maximum = 173559.0\n",
      "Range = 173559.0\n",
      "Variance = 360211.0011719365\n",
      "Standard Deviation = 600.175808552741\n"
     ]
    }
   ],
   "source": [
    "plt.plot(price_data['Art'][1])\n",
    "plt.show()\n",
    "describe_arr(price_data['Art'][1])\n"
   ]
  },
  {
   "cell_type": "code",
   "execution_count": 72,
   "metadata": {},
   "outputs": [
    {
     "data": {
      "image/png": "[encoded data removed]",
      "text/plain": [
       "<Figure size 640x480 with 1 Axes>"
      ]
     },
     "metadata": {},
     "output_type": "display_data"
    },
    {
     "name": "stdout",
     "output_type": "stream",
     "text": [
      "Descriptive analysis\n",
      "Measures of Central Tendency\n",
      "Mean = 13.757879658040027\n",
      "Median = 0.704308845419\n",
      "Measures of Dispersion\n",
      "Minimum = 1.5142500000000002e-16\n",
      "Maximum = 113096.785396059\n",
      "Range = 113096.785396059\n",
      "Variance = 36437.69997512486\n",
      "Standard Deviation = 190.8866154949709\n"
     ]
    }
   ],
   "source": [
    "plt.plot(price_data['Games'][1])\n",
    "plt.show()\n",
    "describe_arr(price_data['Games'][1])"
   ]
  },
  {
   "cell_type": "code",
   "execution_count": 22,
   "metadata": {},
   "outputs": [
    {
     "data": {
      "text/plain": [
       "count    6.062744e+06\n",
       "mean     1.463413e+02\n",
       "std      5.488389e+03\n",
       "min      1.514250e-16\n",
       "25%      2.277600e-01\n",
       "50%      1.426470e+00\n",
       "75%      1.385100e+01\n",
       "max      7.501893e+06\n",
       "Name: Price_USD, dtype: float64"
      ]
     },
     "execution_count": 22,
     "metadata": {},
     "output_type": "execute_result"
    }
   ],
   "source": [
    "df['Price_USD'].describe()"
   ]
  },
  {
   "cell_type": "markdown",
   "metadata": {},
   "source": [
    "### Finding % of unique trades"
   ]
  },
  {
   "cell_type": "markdown",
   "metadata": {},
   "source": [
    "We segment the data according to category and try to make sense, regarding how much of the population are first time buyers and sellers."
   ]
  },
  {
   "cell_type": "code",
   "execution_count": 37,
   "metadata": {},
   "outputs": [
    {
     "data": {
      "text/plain": [
       "Games          2643014\n",
       "Collectible    1605657\n",
       "Art            1472515\n",
       "Other           272772\n",
       "Metaverse        68372\n",
       "Utility           8697\n",
       "Name: Category, dtype: int64"
      ]
     },
     "execution_count": 37,
     "metadata": {},
     "output_type": "execute_result"
    }
   ],
   "source": [
    "# Games -> len(df['Seller_address'].unique())/len(df['Seller_address'])\n",
    "unique_sell_segmented={'Games':0,'Collectible':0,'Art':0,'Metaverse':0,'Utility':0,'Other':0}\n",
    "for index, row in df.iterrows():\n",
    "    # check if the user is unique or not\n",
    "    unique_sell_segmented[row['Category']]+=1"
   ]
  },
  {
   "cell_type": "code",
   "execution_count": 30,
   "metadata": {},
   "outputs": [
    {
     "data": {
      "text/plain": [
       "0.05154317383203863"
      ]
     },
     "execution_count": 30,
     "metadata": {},
     "output_type": "execute_result"
    }
   ],
   "source": [
    "# Finding % of first time sellers=> % of unique seller addresss\n",
    "unique_sellers=len(df['Seller_address'].unique())/len(df['Seller_address'])\n",
    "unique_sellers"
   ]
  },
  {
   "cell_type": "code",
   "execution_count": 31,
   "metadata": {},
   "outputs": [
    {
     "data": {
      "text/plain": [
       "0.05902592757370376"
      ]
     },
     "execution_count": 31,
     "metadata": {},
     "output_type": "execute_result"
    }
   ],
   "source": [
    "unique_buyers=len(df['Buyer_address'].unique())/len(df['Buyer_address'])\n",
    "unique_buyers"
   ]
  },
  {
   "cell_type": "markdown",
   "metadata": {},
   "source": [
    "Only 5% of the buyers and sellers are unique. So out of a 100 transactions, there are only 5 people making all the transactions. So it is almost a PUN to be called decentralized."
   ]
  }
 ],
 "metadata": {
  "kernelspec": {
   "display_name": "Python 3.10.7 64-bit",
   "language": "python",
   "name": "python3"
  },
  "language_info": {
   "codemirror_mode": {
    "name": "ipython",
    "version": 3
   },
   "file_extension": ".py",
   "mimetype": "text/x-python",
   "name": "python",
   "nbconvert_exporter": "python",
   "pygments_lexer": "ipython3",
   "version": "3.10.0"
  },
  "orig_nbformat": 4,
  "vscode": {
   "interpreter": {
    "hash": "369f2c481f4da34e4445cda3fffd2e751bd1c4d706f27375911949ba6bb62e1c"
   }
  }
 },
 "nbformat": 4,
 "nbformat_minor": 2
}
